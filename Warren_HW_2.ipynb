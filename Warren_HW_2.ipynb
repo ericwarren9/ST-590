{
  "nbformat": 4,
  "nbformat_minor": 0,
  "metadata": {
    "colab": {
      "provenance": [],
      "authorship_tag": "ABX9TyOnTUOfAxmCO472iDmFWQ7C",
      "include_colab_link": true
    },
    "kernelspec": {
      "name": "python3",
      "display_name": "Python 3"
    },
    "language_info": {
      "name": "python"
    }
  },
  "cells": [
    {
      "cell_type": "markdown",
      "metadata": {
        "id": "view-in-github",
        "colab_type": "text"
      },
      "source": [
        "<a href=\"https://colab.research.google.com/github/ericwarren9/ST-590/blob/main/Warren_HW_2.ipynb\" target=\"_parent\"><img src=\"https://colab.research.google.com/assets/colab-badge.svg\" alt=\"Open In Colab\"/></a>"
      ]
    },
    {
      "cell_type": "markdown",
      "source": [
        "# ST 590 Homework 2 By: Eric Warren"
      ],
      "metadata": {
        "id": "ssg7I2IgHQl1"
      }
    },
    {
      "cell_type": "markdown",
      "source": [
        "## Part 1: List and `NumPy` Practice"
      ],
      "metadata": {
        "id": "JCZNea9BHVyd"
      }
    },
    {
      "cell_type": "markdown",
      "source": [
        "For this part, import the `numpy` library. We’ll use the new way to do random number generation using `numpy` to create some data and plot it."
      ],
      "metadata": {
        "id": "vJKU5PY0HjVc"
      }
    },
    {
      "cell_type": "markdown",
      "source": [
        "A) Generate 30 values from a Poisson distribution with λ = 3 and print those out. Note: each time you run your code you’ll get different values. To avoid this, first set a seed for your random number generator."
      ],
      "metadata": {
        "id": "77OMOUSXH1Yh"
      }
    },
    {
      "cell_type": "code",
      "source": [
        "import numpy as np # import module\n",
        "rng = np.random.default_rng(9) # Generate random number\n",
        "poisson = rng.poisson(3, 30)\n",
        "poisson"
      ],
      "metadata": {
        "colab": {
          "base_uri": "https://localhost:8080/"
        },
        "id": "F8sA67kIHr4B",
        "outputId": "cf08130f-4896-4bd5-a2b8-cced41462205"
      },
      "execution_count": 1,
      "outputs": [
        {
          "output_type": "execute_result",
          "data": {
            "text/plain": [
              "array([8, 2, 0, 5, 9, 1, 3, 1, 2, 3, 3, 3, 5, 0, 3, 4, 1, 4, 5, 4, 2, 6,\n",
              "       3, 2, 1, 4, 6, 4, 6, 2])"
            ]
          },
          "metadata": {},
          "execution_count": 1
        }
      ]
    },
    {
      "cell_type": "markdown",
      "source": [
        "B) Use `numpy`’s mean function to find the mean of your 30 values."
      ],
      "metadata": {
        "id": "bkedVIyuIkOk"
      }
    },
    {
      "cell_type": "code",
      "source": [
        "np.mean(poisson) # Get mean of distribution"
      ],
      "metadata": {
        "colab": {
          "base_uri": "https://localhost:8080/"
        },
        "id": "AQ1F4vqxInYM",
        "outputId": "f5c8ac09-2c37-4fe4-f5f1-4ec92c7262a5"
      },
      "execution_count": 2,
      "outputs": [
        {
          "output_type": "execute_result",
          "data": {
            "text/plain": [
              "3.4"
            ]
          },
          "metadata": {},
          "execution_count": 2
        }
      ]
    },
    {
      "cell_type": "markdown",
      "source": [
        "C) Use a list comprehension to generate 5000 data sets from the Poisson with mean 3 and return the mean (within the list comprehension - no need to return the values themselves)."
      ],
      "metadata": {
        "id": "A-E7-WHeIriq"
      }
    },
    {
      "cell_type": "code",
      "source": [
        "poisson_means = [] # Initialize empty list\n",
        "poisson_means = [np.mean(np.random.poisson(3, 30)) for _ in range(5000)] # List comprehension for 5000 X_i ~ Pois(3) with 30 values in each data set"
      ],
      "metadata": {
        "id": "kVxt-B2PI9Zs"
      },
      "execution_count": 3,
      "outputs": []
    },
    {
      "cell_type": "markdown",
      "source": [
        "D) Now run the code below to create a histogram of the means. You should see a histogram that looks roughly like a Normal distribution with mean 3 and standard deviation $\\sqrt{\\frac{1}{10}}$."
      ],
      "metadata": {
        "id": "uuvi71s7PPu5"
      }
    },
    {
      "cell_type": "code",
      "source": [
        "import matplotlib.pyplot as plt # Import for graphing\n",
        "plt.hist(poisson_means) # Plot the different means generated"
      ],
      "metadata": {
        "colab": {
          "base_uri": "https://localhost:8080/",
          "height": 537
        },
        "id": "xfeQi9YKPipe",
        "outputId": "2aad7b22-9ccf-43ae-a4bf-9e9181bde8ba"
      },
      "execution_count": 4,
      "outputs": [
        {
          "output_type": "execute_result",
          "data": {
            "text/plain": [
              "(array([  14.,   72.,  351.,  966., 1414., 1333.,  619.,  192.,   36.,\n",
              "           3.]),\n",
              " array([1.86666667, 2.10666667, 2.34666667, 2.58666667, 2.82666667,\n",
              "        3.06666667, 3.30666667, 3.54666667, 3.78666667, 4.02666667,\n",
              "        4.26666667]),\n",
              " <BarContainer object of 10 artists>)"
            ]
          },
          "metadata": {},
          "execution_count": 4
        },
        {
          "output_type": "display_data",
          "data": {
            "text/plain": [
              "<Figure size 640x480 with 1 Axes>"
            ],
            "image/png": "[encoded data removed]"
          },
          "metadata": {}
        }
      ]
    },
    {
      "cell_type": "markdown",
      "source": [
        "E) Lastly, we’ll wrap the above process into a function.\n",
        "\n",
        "- The function should take in\n",
        "  - a value for the mean of the poisson - with a default of 3.1\n",
        "  - a value for the sample size - with a default value of 30\n",
        "  - a value for the number bins for the histogram - with a default value of None. The bins can be set in the plt.hist() function via plt.hist(your_list_of_means, bins = 15)\n",
        "- The function should check if the bins argument is None.\n",
        "  - If True then use the plt.hist() code without specifying the bins in order to use the default bin number.\n",
        " - If False then specify the bins user the value specified by the user.\n",
        "- The function should output a graph. Test it on a few combinations of your inputs!"
      ],
      "metadata": {
        "id": "OUtStQXkQEJj"
      }
    },
    {
      "cell_type": "code",
      "source": [
        "def poisson_mean_histogram(mean = 3.1, sample_size = 30, bins = None):\n",
        "  \"\"\"\n",
        "  Here we are going to first generate 5000 different random Poisson distributions with mean 3.1 and sample size 30\n",
        "  Then we are going to graph the means based on a histogram with the user specifying the number of bins\n",
        "  The default of bins is None meaning whatever matplotlib thinks is a good bins amount but you can change to your liking with the bins argument\n",
        "  \"\"\"\n",
        "  pois_means = [] # Initialize empty list\n",
        "\n",
        "  # List comprehension for 5000 X_i ~ Pois(Mean -- user inputted) with sample_size number of values in each data set\n",
        "  pois_means = [np.mean(np.random.poisson(mean, sample_size)) for _ in range(5000)]\n",
        "\n",
        "  # Make the histogram based on the condition if bins is set\n",
        "  if bins == None:\n",
        "    plot = plt.hist(pois_means)\n",
        "  else:\n",
        "    plot = plt.hist(pois_means, bins = bins)\n",
        "\n",
        "  # Return the plot\n",
        "  return plot"
      ],
      "metadata": {
        "id": "uqv9BtkxQaeA"
      },
      "execution_count": 5,
      "outputs": []
    },
    {
      "cell_type": "markdown",
      "source": [
        "Now we are going to test our function three times"
      ],
      "metadata": {
        "id": "WXAIxhYoSMIz"
      }
    },
    {
      "cell_type": "code",
      "source": [
        "poisson_mean_histogram() # All defaults"
      ],
      "metadata": {
        "colab": {
          "base_uri": "https://localhost:8080/",
          "height": 537
        },
        "id": "8cTA5IIWSPIJ",
        "outputId": "e245e7a0-4a5e-4ed5-895c-921126a6c6c0"
      },
      "execution_count": 6,
      "outputs": [
        {
          "output_type": "execute_result",
          "data": {
            "text/plain": [
              "(array([  13.,   88.,  312.,  709., 1362., 1276.,  724.,  368.,  130.,\n",
              "          18.]),\n",
              " array([2.        , 2.21666667, 2.43333333, 2.65      , 2.86666667,\n",
              "        3.08333333, 3.3       , 3.51666667, 3.73333333, 3.95      ,\n",
              "        4.16666667]),\n",
              " <BarContainer object of 10 artists>)"
            ]
          },
          "metadata": {},
          "execution_count": 6
        },
        {
          "output_type": "display_data",
          "data": {
            "text/plain": [
              "<Figure size 640x480 with 1 Axes>"
            ],
            "image/png": "[encoded data removed]"
          },
          "metadata": {}
        }
      ]
    },
    {
      "cell_type": "code",
      "source": [
        "poisson_mean_histogram(mean = 3, sample_size = 100) # Change everything but the bins"
      ],
      "metadata": {
        "colab": {
          "base_uri": "https://localhost:8080/",
          "height": 519
        },
        "id": "lcPzNRrrSVwt",
        "outputId": "e5318f1a-d8a4-40a7-dc0b-9312ea26d00c"
      },
      "execution_count": 7,
      "outputs": [
        {
          "output_type": "execute_result",
          "data": {
            "text/plain": [
              "(array([   5.,   62.,  341.,  878., 1412., 1361.,  672.,  208.,   54.,\n",
              "           7.]),\n",
              " array([2.35 , 2.484, 2.618, 2.752, 2.886, 3.02 , 3.154, 3.288, 3.422,\n",
              "        3.556, 3.69 ]),\n",
              " <BarContainer object of 10 artists>)"
            ]
          },
          "metadata": {},
          "execution_count": 7
        },
        {
          "output_type": "display_data",
          "data": {
            "text/plain": [
              "<Figure size 640x480 with 1 Axes>"
            ],
            "image/png": "[encoded data removed]"
          },
          "metadata": {}
        }
      ]
    },
    {
      "cell_type": "code",
      "source": [
        "poisson_mean_histogram(mean = 3, sample_size = 100, bins = 15) # Change everything"
      ],
      "metadata": {
        "colab": {
          "base_uri": "https://localhost:8080/",
          "height": 573
        },
        "id": "5TJ542sVSgtf",
        "outputId": "087ac3e6-957d-42c7-b97c-1f8031bc37f2"
      },
      "execution_count": 8,
      "outputs": [
        {
          "output_type": "execute_result",
          "data": {
            "text/plain": [
              "(array([4.000e+00, 2.400e+01, 7.700e+01, 2.030e+02, 4.800e+02, 8.150e+02,\n",
              "        1.019e+03, 9.510e+02, 6.980e+02, 4.430e+02, 1.890e+02, 7.300e+01,\n",
              "        1.800e+01, 5.000e+00, 1.000e+00]),\n",
              " array([2.37      , 2.46066667, 2.55133333, 2.642     , 2.73266667,\n",
              "        2.82333333, 2.914     , 3.00466667, 3.09533333, 3.186     ,\n",
              "        3.27666667, 3.36733333, 3.458     , 3.54866667, 3.63933333,\n",
              "        3.73      ]),\n",
              " <BarContainer object of 15 artists>)"
            ]
          },
          "metadata": {},
          "execution_count": 8
        },
        {
          "output_type": "display_data",
          "data": {
            "text/plain": [
              "<Figure size 640x480 with 1 Axes>"
            ],
            "image/png": "[encoded data removed]"
          },
          "metadata": {}
        }
      ]
    },
    {
      "cell_type": "markdown",
      "source": [
        "## Part 2: Dictionary Practice"
      ],
      "metadata": {
        "id": "NVc4-v1XS0RN"
      }
    },
    {
      "cell_type": "markdown",
      "source": [
        "In this part, we’ll read in a raw text file. Then we’ll do the first steps of a basic sentiment analysis. After reading the data in, we’ll use string methods to split the data into words. We’ll store the words as\n",
        "keys in dictionaries with the value being the count of the number of times the words occurs."
      ],
      "metadata": {
        "id": "hfc-D1kwS3-d"
      }
    },
    {
      "cell_type": "markdown",
      "source": [
        "### Part A: Read in Data"
      ],
      "metadata": {
        "id": "7iRwATazTIpU"
      }
    },
    {
      "cell_type": "markdown",
      "source": [
        "First, we need to read the data into python. Using the code below will read the text of Oliver Twist into our python session (downloaded from [Project\n",
        "Gutenburg](https://www.gutenberg.org/))."
      ],
      "metadata": {
        "id": "rpBjF4hcTLm5"
      }
    },
    {
      "cell_type": "code",
      "source": [
        "import urllib.request # import package\n",
        "\n",
        "url = \"https://www4.stat.ncsu.edu/~online/datasets/charles-dickens-oliver-twist.txt\" # Get URL\n",
        "\n",
        "urllib.request.urlretrieve(url, 'charles-dickens-oliver-twist.txt') # Read in URL\n",
        "\n",
        "# Now that we have a reference to the url, read the data into a string\n",
        "with open('charles-dickens-oliver-twist.txt', 'r') as f:\n",
        "  lines = f.read()"
      ],
      "metadata": {
        "id": "pChCfP8-Tdvd"
      },
      "execution_count": 9,
      "outputs": []
    },
    {
      "cell_type": "markdown",
      "source": [
        "### Part B: Showing Data"
      ],
      "metadata": {
        "id": "3F70JAXDT5Q-"
      }
    },
    {
      "cell_type": "markdown",
      "source": [
        "The text has now been read in as one long string called **`lines`**. Print out the first 1000 characters of the string. Then print out the last 1000 characters."
      ],
      "metadata": {
        "id": "KZKJwc0tT7rM"
      }
    },
    {
      "cell_type": "markdown",
      "source": [
        "First we are printing the first 1000 characters"
      ],
      "metadata": {
        "id": "d-y2CkWmUBtW"
      }
    },
    {
      "cell_type": "code",
      "source": [
        "lines[ : 1000]"
      ],
      "metadata": {
        "colab": {
          "base_uri": "https://localhost:8080/",
          "height": 143
        },
        "id": "eDDICnvIUFq-",
        "outputId": "2c4ba9a2-1f57-467a-e93e-3720cd5a4ee1"
      },
      "execution_count": 10,
      "outputs": [
        {
          "output_type": "execute_result",
          "data": {
            "text/plain": [
              "\"\\ufeffThe Project Gutenberg EBook of Oliver Twist, by Charles Dickens\\n\\nThis eBook is for the use of anyone anywhere at no cost and with\\nalmost no restrictions whatsoever.  You may copy it, give it away or\\nre-use it under the terms of the Project Gutenberg License included\\nwith this eBook or online at www.gutenberg.net\\n\\n\\nTitle: Oliver Twist\\n\\nAuthor: Charles Dickens\\n\\nPosting Date: October 10, 2008 [EBook #730]\\nRelease Date: November, 1996\\n\\nLanguage: English\\n\\n\\n*** START OF THIS PROJECT GUTENBERG EBOOK OLIVER TWIST ***\\n\\n\\n\\n\\nProduced by Peggy Gaugy and Leigh Little.  HTML version by Al Haines.\\n\\n\\n\\n\\n\\n\\n\\n\\n\\nOLIVER TWIST\\n\\nOR\\n\\nTHE PARISH BOY'S PROGRESS\\n\\n\\nBY\\n\\nCHARLES DICKENS\\n\\n\\n\\n\\nCONTENTS\\n\\n       I  TREATS OF THE PLACE WHERE OLIVER TWIST WAS BORN AND OF THE\\n          CIRCUMSTANCES ATTENDING HIS BIRTH\\n      II  TREATS OF OLIVER TWIST'S GROWTH, EDUCATION, AND BOARD\\n     III  RELATES HOW OLIVER TWIST WAS VERY NEAR GETTING A PLACE WHICH\\n          WOULD NOT HAVE BEEN A SINECURE\\n      IV  OLIVER, BEING OFFERED \""
            ],
            "application/vnd.google.colaboratory.intrinsic+json": {
              "type": "string"
            }
          },
          "metadata": {},
          "execution_count": 10
        }
      ]
    },
    {
      "cell_type": "markdown",
      "source": [
        "Now we are printing the last 1000 characters"
      ],
      "metadata": {
        "id": "K8QaA3nWUKXK"
      }
    },
    {
      "cell_type": "code",
      "source": [
        "lines[-1000 : ]"
      ],
      "metadata": {
        "colab": {
          "base_uri": "https://localhost:8080/",
          "height": 143
        },
        "id": "E-27XH8BUNPT",
        "outputId": "c406a346-d0a3-44a5-a399-7e40fe6b0d2c"
      },
      "execution_count": 11,
      "outputs": [
        {
          "output_type": "execute_result",
          "data": {
            "text/plain": [
              "'glaf.org/donate\\n\\n\\nSection 5.  General Information About Project Gutenberg-tm electronic\\nworks.\\n\\nProfessor Michael S. Hart is the originator of the Project Gutenberg-tm\\nconcept of a library of electronic works that could be freely shared\\nwith anyone.  For thirty years, he produced and distributed Project\\nGutenberg-tm eBooks with only a loose network of volunteer support.\\n\\n\\nProject Gutenberg-tm eBooks are often created from several printed\\neditions, all of which are confirmed as Public Domain in the U.S.\\nunless a copyright notice is included.  Thus, we do not necessarily\\nkeep eBooks in compliance with any particular paper edition.\\n\\n\\nMost people start at our Web site which has the main PG search facility:\\n\\n     http://www.gutenberg.net\\n\\nThis Web site includes information about Project Gutenberg-tm,\\nincluding how to make donations to the Project Gutenberg Literary\\nArchive Foundation, how to help produce our new eBooks, and how to\\nsubscribe to our email newsletter to hear about new eBooks.\\n'"
            ],
            "application/vnd.google.colaboratory.intrinsic+json": {
              "type": "string"
            }
          },
          "metadata": {},
          "execution_count": 11
        }
      ]
    },
    {
      "cell_type": "markdown",
      "source": [
        "### Part C: Filtering Data"
      ],
      "metadata": {
        "id": "o_A_oVeRUcJq"
      }
    },
    {
      "cell_type": "markdown",
      "source": [
        "You should see that there is a lot of \"front\" and \"end\" matter. We want to subset the string first to remove the front and end matter. That is, we want to remove everything up to \"CHAPTER I\" (but leave \"CHAPTER I\" in the resulting text) and remove everything that isn't part of the actual book\n",
        "at the end (\"End of the Project Gutenberg EBook\").\n",
        "\n",
        "Hints:\n",
        "- Use the `.find()` string method to find indices corresponding to each of the quoted text bits above. Then subset the string using slicing.\n",
        "- Print out the first 250 characters and the last 250 characters of the resulting object"
      ],
      "metadata": {
        "id": "2UiKY2A6UojY"
      }
    },
    {
      "cell_type": "markdown",
      "source": [
        "First we want to find where \"CHAPTER I\" occurs"
      ],
      "metadata": {
        "id": "8jBePx6IU-Ke"
      }
    },
    {
      "cell_type": "code",
      "source": [
        "lines.find(\"CHAPTER I\")"
      ],
      "metadata": {
        "colab": {
          "base_uri": "https://localhost:8080/"
        },
        "id": "I1ZV-djLVMRw",
        "outputId": "0a1196a4-9145-4797-9e5f-6f1137503dfc"
      },
      "execution_count": 12,
      "outputs": [
        {
          "output_type": "execute_result",
          "data": {
            "text/plain": [
              "6105"
            ]
          },
          "metadata": {},
          "execution_count": 12
        }
      ]
    },
    {
      "cell_type": "markdown",
      "source": [
        "Now we want to find where \"End of the Project Gutenberg EBook\" occurs"
      ],
      "metadata": {
        "id": "-wxROFPqVRNE"
      }
    },
    {
      "cell_type": "code",
      "source": [
        "lines.find(\"End of the Project Gutenberg EBook\")"
      ],
      "metadata": {
        "colab": {
          "base_uri": "https://localhost:8080/"
        },
        "id": "y0Q-fUXmVaqo",
        "outputId": "bafd35e7-0365-4bcf-b037-503176ea0208"
      },
      "execution_count": 13,
      "outputs": [
        {
          "output_type": "execute_result",
          "data": {
            "text/plain": [
              "898242"
            ]
          },
          "metadata": {},
          "execution_count": 13
        }
      ]
    },
    {
      "cell_type": "markdown",
      "source": [
        "Now let us slice and create a new object called **`book`** that contains the material of the passage with including these elements we want"
      ],
      "metadata": {
        "id": "Tig2DjsZVfxU"
      }
    },
    {
      "cell_type": "code",
      "source": [
        "book = lines[lines.find(\"CHAPTER I\") : lines.find(\"End of the Project Gutenberg EBook\")] # Get elements of what we need -- this is a better way in case the book elements change in the future\n",
        "# book = lines[6105 : 898242] # Not as good since if the book updates then our start and end points change but this does work"
      ],
      "metadata": {
        "id": "PsfQpuV9VxAb"
      },
      "execution_count": 14,
      "outputs": []
    },
    {
      "cell_type": "markdown",
      "source": [
        "We will now print the first 250 characters"
      ],
      "metadata": {
        "id": "rr3o5hD7V58n"
      }
    },
    {
      "cell_type": "code",
      "source": [
        "book[ : 250]"
      ],
      "metadata": {
        "colab": {
          "base_uri": "https://localhost:8080/",
          "height": 53
        },
        "id": "JVb1QggOV8YN",
        "outputId": "0d2c7bb7-5041-4d1c-94db-c9639cb3957e"
      },
      "execution_count": 15,
      "outputs": [
        {
          "output_type": "execute_result",
          "data": {
            "text/plain": [
              "'CHAPTER I\\n\\nTREATS OF THE PLACE WHERE OLIVER TWIST WAS BORN AND OF THE\\nCIRCUMSTANCES ATTENDING HIS BIRTH\\n\\nAmong other public buildings in a certain town, which for many reasons\\nit will be prudent to refrain from mentioning, and to which I will\\nassign '"
            ],
            "application/vnd.google.colaboratory.intrinsic+json": {
              "type": "string"
            }
          },
          "metadata": {},
          "execution_count": 15
        }
      ]
    },
    {
      "cell_type": "markdown",
      "source": [
        "And now print the last 250 characters"
      ],
      "metadata": {
        "id": "2Jp7LATaWAQO"
      }
    },
    {
      "cell_type": "code",
      "source": [
        "book[-250 : ]"
      ],
      "metadata": {
        "colab": {
          "base_uri": "https://localhost:8080/",
          "height": 53
        },
        "id": "JQL5uQNVWT_M",
        "outputId": "ef7f7acd-c3ed-40e8-ca4e-72eddd70de4c"
      },
      "execution_count": 16,
      "outputs": [
        {
          "output_type": "execute_result",
          "data": {
            "text/plain": [
              "'d by the love--the love beyond the\\ngrave--of those whom they knew in life, I believe that the shade of\\nAgnes sometimes hovers round that solemn nook. I believe it none the\\nless because that nook is in a Church, and she was weak and erring.\\n\\n\\n\\n\\n\\n\\n\\n\\n\\n\\n'"
            ],
            "application/vnd.google.colaboratory.intrinsic+json": {
              "type": "string"
            }
          },
          "metadata": {},
          "execution_count": 16
        }
      ]
    },
    {
      "cell_type": "markdown",
      "source": [
        "### Part D: Make a Dictionary"
      ],
      "metadata": {
        "id": "kbjKeXVwWb6M"
      }
    },
    {
      "cell_type": "markdown",
      "source": [
        "Our goal is to iterate through the words in the book and count the number of times each word occurs. We can use a dictionary to store this type of data! For instance, you’ll end up with a key of “the” with a corresponding value being the number of times “the” occurred.\n",
        "\n",
        "Some hints:\n",
        "- Replace all the \\n values with spaces as we did previously\n",
        "- Split the string by spaces and save that resulting list\n",
        "- Initialize a dictionary to save your words (keys) and counts in (values)\n",
        "- Import the `string` module as you’ll need some things from that\n",
        "- Use a for loop, iterating over the list elements. When iterating:\n",
        "  - If you get a space, ignore that iteration of the loop (that is move to the next iteration)\n",
        "  - Convert each ‘word’ to lower case\n",
        "  - We’ll need to remove any punctuation (for instance, “end.” would need the ‘.’ removed).\n",
        "    - The object **string.punctuation** has a list of punctuation marks\n",
        "    - You can write a loop inside your loop (a nested for loop) that iterates over the values in **string.punctuation**. If the punctuation value exists in the ‘word’ then you can use the `.replace()` method to replace it with an empty string “ “. This loop should remove any punctuation! (Note: this will make words like didn’t into didnt, that’s fine - ignore that as it will still count appropriately for the most part.)\n",
        "  - Now the ‘word’ is processed and we are ready to count. Use if/else logic to check if the the word already exists in the dictionary. If it does, add one to the associated value. If not, add that key to the dictionary with a value of 1."
      ],
      "metadata": {
        "id": "tmZWQAv92KWr"
      }
    },
    {
      "cell_type": "markdown",
      "source": [
        "First replace all the '\\n' values"
      ],
      "metadata": {
        "id": "W0fXHXZf3MHw"
      }
    },
    {
      "cell_type": "code",
      "source": [
        "book = book.replace('\\n', ' ')"
      ],
      "metadata": {
        "id": "N0NDjyG13O-g"
      },
      "execution_count": 17,
      "outputs": []
    },
    {
      "cell_type": "markdown",
      "source": [
        "Split the string by spaces and save result as list"
      ],
      "metadata": {
        "id": "XBo74U123jnq"
      }
    },
    {
      "cell_type": "code",
      "source": [
        "word_list = book.split()"
      ],
      "metadata": {
        "id": "4A-PJkyW3naZ"
      },
      "execution_count": 18,
      "outputs": []
    },
    {
      "cell_type": "markdown",
      "source": [
        "Initialize a dictionary to save your words (keys) and counts in (values)"
      ],
      "metadata": {
        "id": "TF7UNm1o32hz"
      }
    },
    {
      "cell_type": "code",
      "source": [
        "word_dict = {}"
      ],
      "metadata": {
        "id": "D8Bul4Fv37oE"
      },
      "execution_count": 19,
      "outputs": []
    },
    {
      "cell_type": "markdown",
      "source": [
        "Import the string module as you’ll need some things from that"
      ],
      "metadata": {
        "id": "jvd9xyebAJ95"
      }
    },
    {
      "cell_type": "code",
      "source": [
        "import string as st"
      ],
      "metadata": {
        "id": "DI4wARrXAT8K"
      },
      "execution_count": 20,
      "outputs": []
    },
    {
      "cell_type": "markdown",
      "source": [
        "Use a for loop, iterating over the list elements. When iterating:\n",
        "- If you get a space, ignore that iteration of the loop (that is move to the next iteration)\n",
        "- Convert each ‘word’ to lower case\n",
        "- We’ll need to remove any punctuation (for instance, “end.” would need the ‘.’ removed).\n",
        "  - The object **string.punctuation** has a list of punctuation marks\n",
        "  - You can write a loop inside your loop (a nested for loop) that iterates over the values in **string.punctuation**. If the punctuation value exists in the ‘word’ then you can use the `.replace()` method to replace it with an empty string “ “. This loop should remove any punctuation! (Note: this will make words like didn’t into didnt, that’s fine - ignore that as it will still count appropriately for the most part.)\n",
        "- Now the ‘word’ is processed and we are ready to count. Use if/else logic to check if the the word already exists in the dictionary. If it does, add one to the associated value. If not, add that key to the dictionary with a value of 1.\n",
        "- We will show the first 10 dictionary pair values to show that this works"
      ],
      "metadata": {
        "id": "LmQb6qdwAe7r"
      }
    },
    {
      "cell_type": "code",
      "source": [
        "# Import itertools to help with slicing later\n",
        "import itertools\n",
        "\n",
        "# Make the for loop\n",
        "for i in word_list:\n",
        "\n",
        "  # Skip spaces\n",
        "  if i == ' ':\n",
        "    continue\n",
        "\n",
        "  # Make lowercase\n",
        "  i = i.lower()\n",
        "\n",
        "  # Remove punctuation\n",
        "  i = i.translate(str.maketrans('', '', st.punctuation))\n",
        "\n",
        "  # Make if else to get the key and values to the dictionary\n",
        "  if i in word_dict:\n",
        "    word_dict[i] = word_dict.get(i) + 1\n",
        "  else:\n",
        "    word_dict[i] = 1\n",
        "\n",
        "dict(itertools.islice(word_dict.items(), 10)) # Show first 10 key pairs to show it works\n",
        "\n"
      ],
      "metadata": {
        "colab": {
          "base_uri": "https://localhost:8080/"
        },
        "id": "3qXB01H5Ayki",
        "outputId": "fc7a8d85-488c-4369-9abc-f26faed04240"
      },
      "execution_count": 21,
      "outputs": [
        {
          "output_type": "execute_result",
          "data": {
            "text/plain": [
              "{'chapter': 61,\n",
              " 'i': 1625,\n",
              " 'treats': 4,\n",
              " 'of': 3829,\n",
              " 'the': 9558,\n",
              " 'place': 115,\n",
              " 'where': 189,\n",
              " 'oliver': 746,\n",
              " 'twist': 54,\n",
              " 'was': 1783}"
            ]
          },
          "metadata": {},
          "execution_count": 21
        }
      ]
    },
    {
      "cell_type": "markdown",
      "source": [
        "### Part E: Show the Top 40 Most Used Words"
      ],
      "metadata": {
        "id": "kq9vcBitJmCi"
      }
    },
    {
      "cell_type": "markdown",
      "source": [
        "We want to print out the 40 most prevalent words and how prevalent they were (i.e. the 40 most prevalent key/value pairs). We can use the `sorted()` function to do this.\n",
        "- Use the `sorted()` function with appropriate key to obtain a list\n",
        "of keys in descending order (largest to smallest).\n",
        "- Grab the first 40 of those keys and use a for loop to print out the keys with their values."
      ],
      "metadata": {
        "id": "mhwydmQQJuW8"
      }
    },
    {
      "cell_type": "code",
      "source": [
        "top_number = 40 # To show top 40; change if you want to see more or less\n",
        "\n",
        "# Sort by the most times it occurs\n",
        "sorted_word_order = sorted(word_dict.items(), key=lambda x:x[1], reverse=True)\n",
        "\n",
        "# Make for loop to print top 40 pairs\n",
        "for i in range(top_number):\n",
        "  print(sorted_word_order[i])\n",
        "\n",
        "# dict(itertools.islice(sorted(word_dict.items(), key=lambda x:x[1], reverse=True), top_number)) # Another quicker way to get top numbered pairs"
      ],
      "metadata": {
        "colab": {
          "base_uri": "https://localhost:8080/"
        },
        "id": "tJnOad43J2VN",
        "outputId": "c8816747-af25-4242-e732-8ec103cb2553"
      },
      "execution_count": 22,
      "outputs": [
        {
          "output_type": "stream",
          "name": "stdout",
          "text": [
            "('the', 9558)\n",
            "('and', 5322)\n",
            "('to', 3850)\n",
            "('of', 3829)\n",
            "('a', 3696)\n",
            "('he', 2389)\n",
            "('in', 2362)\n",
            "('his', 2343)\n",
            "('that', 1827)\n",
            "('was', 1783)\n",
            "('it', 1705)\n",
            "('i', 1625)\n",
            "('you', 1602)\n",
            "('with', 1562)\n",
            "('as', 1313)\n",
            "('said', 1230)\n",
            "('had', 1223)\n",
            "('for', 1140)\n",
            "('mr', 1070)\n",
            "('him', 1057)\n",
            "('at', 986)\n",
            "('on', 931)\n",
            "('which', 870)\n",
            "('this', 795)\n",
            "('her', 781)\n",
            "('not', 775)\n",
            "('be', 768)\n",
            "('by', 766)\n",
            "('have', 757)\n",
            "('oliver', 746)\n",
            "('but', 720)\n",
            "('is', 713)\n",
            "('they', 675)\n",
            "('from', 630)\n",
            "('all', 603)\n",
            "('if', 593)\n",
            "('me', 588)\n",
            "('so', 579)\n",
            "('no', 578)\n",
            "('were', 557)\n"
          ]
        }
      ]
    },
    {
      "cell_type": "markdown",
      "source": [
        "### Part F: Updated Top Words (What we Deem Important Words)"
      ],
      "metadata": {
        "id": "gPbNXSySLlO8"
      }
    },
    {
      "cell_type": "markdown",
      "source": [
        "You probably note a bunch of words that aren’t that important (like **the**). Remove the following words from our dictionary and then print the 40 most common words: ‘the’, ‘and’, ‘to’, ‘of’, ‘a’, ‘in’, ‘that’, ‘with’, ‘for’, ‘at’, ‘on’"
      ],
      "metadata": {
        "id": "FSQ2jPYoLuL6"
      }
    },
    {
      "cell_type": "code",
      "source": [
        "# Remove not important words\n",
        "words_to_delete = ['the', 'and', 'to', 'of', 'a', 'in', 'that', 'with', 'for', 'at', 'on']\n",
        "word_dict_updated = dict([(key, val) for key, val in word_dict.items() if key not in words_to_delete])\n",
        "\n",
        "\n",
        "# Sort by the most times it occurs\n",
        "sorted_word_order_updated = sorted(word_dict_updated.items(), key=lambda x:x[1], reverse=True)\n",
        "\n",
        "# Make for loop to print top 40 pairs\n",
        "for i in range(top_number):\n",
        "  print(sorted_word_order_updated[i])\n",
        "\n",
        "# dict(itertools.islice(sorted(word_dict_updated.items(), key=lambda x:x[1], reverse=True), top_number)) # Another quicker way to get top numbered pairs"
      ],
      "metadata": {
        "colab": {
          "base_uri": "https://localhost:8080/"
        },
        "id": "2SoI8pLSL-JW",
        "outputId": "0b7ec298-9595-43b7-a1d3-9d384815cc05"
      },
      "execution_count": 23,
      "outputs": [
        {
          "output_type": "stream",
          "name": "stdout",
          "text": [
            "('he', 2389)\n",
            "('his', 2343)\n",
            "('was', 1783)\n",
            "('it', 1705)\n",
            "('i', 1625)\n",
            "('you', 1602)\n",
            "('as', 1313)\n",
            "('said', 1230)\n",
            "('had', 1223)\n",
            "('mr', 1070)\n",
            "('him', 1057)\n",
            "('which', 870)\n",
            "('this', 795)\n",
            "('her', 781)\n",
            "('not', 775)\n",
            "('be', 768)\n",
            "('by', 766)\n",
            "('have', 757)\n",
            "('oliver', 746)\n",
            "('but', 720)\n",
            "('is', 713)\n",
            "('they', 675)\n",
            "('from', 630)\n",
            "('all', 603)\n",
            "('if', 593)\n",
            "('me', 588)\n",
            "('so', 579)\n",
            "('no', 578)\n",
            "('were', 557)\n",
            "('she', 550)\n",
            "('who', 511)\n",
            "('my', 506)\n",
            "('there', 497)\n",
            "('or', 496)\n",
            "('when', 490)\n",
            "('up', 488)\n",
            "('very', 485)\n",
            "('what', 478)\n",
            "('upon', 477)\n",
            "('replied', 464)\n"
          ]
        }
      ]
    }
  ]
}