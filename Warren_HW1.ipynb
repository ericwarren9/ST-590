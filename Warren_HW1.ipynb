{
  "nbformat": 4,
  "nbformat_minor": 0,
  "metadata": {
    "colab": {
      "provenance": [],
      "authorship_tag": "ABX9TyOZJtpxGxAxqMItKuDU9e4K",
      "include_colab_link": true
    },
    "kernelspec": {
      "name": "python3",
      "display_name": "Python 3"
    },
    "language_info": {
      "name": "python"
    }
  },
  "cells": [
    {
      "cell_type": "markdown",
      "metadata": {
        "id": "view-in-github",
        "colab_type": "text"
      },
      "source": [
        "<a href=\"https://colab.research.google.com/github/ericwarren9/ST-590/blob/main/Warren_HW1.ipynb\" target=\"_parent\"><img src=\"https://colab.research.google.com/assets/colab-badge.svg\" alt=\"Open In Colab\"/></a>"
      ]
    },
    {
      "cell_type": "markdown",
      "source": [
        "# **About a Common `python` Module!**"
      ],
      "metadata": {
        "id": "Zv63IYM_Bb41"
      }
    },
    {
      "cell_type": "markdown",
      "source": [
        "## What is `NumPy`?"
      ],
      "metadata": {
        "id": "TbsEqeuYCBuT"
      }
    },
    {
      "cell_type": "markdown",
      "source": [
        "`NumPy` is the fundamental package for scientific computing in Python. It is a Python library that provides a multidimensional array object, various derived objects (such as masked arrays and matrices), and an assortment of routines for fast operations on arrays, including mathematical, logical, shape manipulation, sorting, selecting, I/O, discrete Fourier transforms, basic linear algebra, basic statistical operations, random simulation and much more."
      ],
      "metadata": {
        "id": "Q6MO2h7LCG0u"
      }
    },
    {
      "cell_type": "markdown",
      "source": [
        "At the core of the `NumPy` package, is the *ndarray* object. This encapsulates **n-dimensional arrays of homogeneous data types**, with many operations being performed in compiled code for performance. There are several important differences between `NumPy` arrays and the standard Python sequences:\n",
        "\n",
        "- `NumPy` arrays have a fixed size at creation, unlike Python lists (which can grow dynamically). Changing the size of an *ndarray* will create a new array and delete the original.\n",
        "- The elements in a `NumPy` array are all required to be of the same data type, and thus will be the same size in memory. The exception: one can have arrays of (Python, including `NumPy`) objects, thereby allowing for arrays of different sized elements.\n",
        "- `NumPy` arrays facilitate advanced mathematical and other types of operations on large numbers of data. Typically, such operations are executed more efficiently and with less code than is possible using Python’s built-in sequences.\n",
        "- A growing plethora of scientific and mathematical Python-based packages are using `NumPy` arrays; though these typically support Python-sequence input, they convert such input to `NumPy` arrays prior to processing, and they often output `NumPy` arrays. In other words, in order to efficiently use much (perhaps even most) of today’s scientific/mathematical Python-based software, just knowing how to use Python’s built-in sequence types is insufficient - one also needs to know how to use `NumPy` arrays."
      ],
      "metadata": {
        "id": "tAfOnJzECShl"
      }
    },
    {
      "cell_type": "markdown",
      "source": [
        "The points about sequence size and speed are particularly important in scientific computing. As a simple example, consider the case of multiplying each element in a 1-D sequence with the corresponding element in another sequence of the same length. If the data are stored in two Python lists, `a` and `b`, we could iterate over each element:"
      ],
      "metadata": {
        "id": "7OY5xgecDgwZ"
      }
    },
    {
      "cell_type": "code",
      "source": [
        "a = b = [x for x in range(0,10)]\n",
        "c = []\n",
        "for i in range(len(a)):\n",
        "    c.append(a[i]*b[i])\n",
        "print(c)"
      ],
      "metadata": {
        "colab": {
          "base_uri": "https://localhost:8080/"
        },
        "id": "My0sLVJdDlm7",
        "outputId": "f2af35e0-328c-4cc6-f8ad-5ceedfc9805d"
      },
      "execution_count": null,
      "outputs": [
        {
          "output_type": "stream",
          "name": "stdout",
          "text": [
            "[0, 1, 4, 9, 16, 25, 36, 49, 64, 81]\n"
          ]
        }
      ]
    },
    {
      "cell_type": "markdown",
      "source": [
        "This produces the correct answer, but if `a` and `b` each contain millions of numbers, we will pay the price for the inefficiencies of looping in Python. We could accomplish the same task much more quickly in C by writing (for clarity we neglect variable declarations and initializations, memory allocation, etc.)\n",
        "\n",
        "```\n",
        "for (i = 0; i < rows; i++): {\n",
        "  c[i] = a[i]*b[i];\n",
        "}\n",
        "```"
      ],
      "metadata": {
        "id": "iy89zddFDrU8"
      }
    },
    {
      "cell_type": "markdown",
      "source": [
        "This saves all the overhead involved in interpreting the Python code and manipulating Python objects, but at the expense of the benefits gained from coding in Python. Furthermore, the coding work required increases with the dimensionality of our data. In the case of a 2-D array, for example, the C code (abridged as before) expands to\n",
        "\n",
        "```\n",
        "for (i = 0; i < rows; i++): {\n",
        "  for (j = 0; j < columns; j++): {\n",
        "    c[i][j] = a[i][j]*b[i][j];\n",
        "  }\n",
        "}\n",
        "```"
      ],
      "metadata": {
        "id": "tQYQAIHZEO3l"
      }
    },
    {
      "cell_type": "markdown",
      "source": [
        "`NumPy` gives us the best of both worlds: element-by-element operations are the “default mode” when an *ndarray* is involved, but the element-by-element operation is speedily executed by pre-compiled C code."
      ],
      "metadata": {
        "id": "3QKNaFB0En7g"
      }
    },
    {
      "cell_type": "markdown",
      "source": [
        "## Visualizing an Array"
      ],
      "metadata": {
        "id": "alA0sSDeEuDK"
      }
    },
    {
      "cell_type": "markdown",
      "source": [
        "\n",
        "We can visualize arrays as vectors, matrices, and their extension to higher dimensions. The picture below from [https://predictivehacks.com/tips-about-numpy-arrays/](https://predictivehacks.com/tips-about-numpy-arrays/) shows this visually.\n",
        "\n",
        "![](https://drive.google.com/uc?export=view&id=1BriqyA6jcz9DkoOKRbMQoKJp7Cy8ybIA)"
      ],
      "metadata": {
        "id": "EUX5xeQZEwpK"
      }
    },
    {
      "cell_type": "markdown",
      "source": [
        "## Additional Part"
      ],
      "metadata": {
        "id": "zLo6zNu5GWw5"
      }
    },
    {
      "cell_type": "markdown",
      "source": [
        " In a code cell, we are going to create a list we’ll mess around with."
      ],
      "metadata": {
        "id": "15b4V_e8Mv_B"
      }
    },
    {
      "cell_type": "code",
      "source": [
        "listy = [x for x in range(1,21)]\n",
        "listy"
      ],
      "metadata": {
        "colab": {
          "base_uri": "https://localhost:8080/"
        },
        "id": "uWnrTSFdGjhd",
        "outputId": "e79fc176-6a9d-46e9-f5cd-fc1c07ae8a28"
      },
      "execution_count": null,
      "outputs": [
        {
          "output_type": "execute_result",
          "data": {
            "text/plain": [
              "[1, 2, 3, 4, 5, 6, 7, 8, 9, 10, 11, 12, 13, 14, 15, 16, 17, 18, 19, 20]"
            ]
          },
          "metadata": {},
          "execution_count": 2
        }
      ]
    },
    {
      "cell_type": "markdown",
      "source": [
        "In the following code cell we are going to:\n",
        "\n",
        "- Use a method to remove the number 10 from the list (showed two ways with the first commented out)\n",
        "- Have your new list display its values"
      ],
      "metadata": {
        "id": "HToUmrwuGuK1"
      }
    },
    {
      "cell_type": "code",
      "source": [
        "#listy.remove(10) #One way to remove the number 10 from the list\n",
        "del listy[9] #Another way to remove the number 10 by the numbered element in the list\n",
        "listy"
      ],
      "metadata": {
        "colab": {
          "base_uri": "https://localhost:8080/"
        },
        "id": "Ugj5qhyMG8cP",
        "outputId": "69cc4b97-d0e2-474b-eaeb-32bf48176fac"
      },
      "execution_count": null,
      "outputs": [
        {
          "output_type": "execute_result",
          "data": {
            "text/plain": [
              "[1, 2, 3, 4, 5, 6, 7, 8, 9, 11, 12, 13, 14, 15, 16, 17, 18, 19, 20]"
            ]
          },
          "metadata": {},
          "execution_count": 3
        }
      ]
    },
    {
      "cell_type": "markdown",
      "source": [
        "Now in our next code cell we are going to:\n",
        "- Use a method to insert the string “threeve” to the beginning of the list (note that the first position is the 0th index of the list)\n",
        "- Have your new list display its values"
      ],
      "metadata": {
        "id": "ntYvepyxLCuu"
      }
    },
    {
      "cell_type": "code",
      "source": [
        "listy.insert(0, \"threeve\")\n",
        "listy"
      ],
      "metadata": {
        "colab": {
          "base_uri": "https://localhost:8080/"
        },
        "id": "eTO3M6MxLLd0",
        "outputId": "82d9f6c9-be96-423c-8317-e30499445f5b"
      },
      "execution_count": null,
      "outputs": [
        {
          "output_type": "execute_result",
          "data": {
            "text/plain": [
              "['threeve', 1, 2, 3, 4, 5, 6, 7, 8, 9, 11, 12, 13, 14, 15, 16, 17, 18, 19, 20]"
            ]
          },
          "metadata": {},
          "execution_count": 4
        }
      ]
    },
    {
      "cell_type": "markdown",
      "source": [
        "In our last code cell we are going to:\n",
        "- Use augmented assignment to repeat the modified listy three times\n",
        "- Have your new list display its values"
      ],
      "metadata": {
        "id": "AycuzFXrLa2o"
      }
    },
    {
      "cell_type": "code",
      "source": [
        "listy *= 3\n",
        "listy"
      ],
      "metadata": {
        "colab": {
          "base_uri": "https://localhost:8080/"
        },
        "id": "skEoH6tXLiVZ",
        "outputId": "589cc4c6-25d0-461a-ef65-824fc0a74c76"
      },
      "execution_count": null,
      "outputs": [
        {
          "output_type": "execute_result",
          "data": {
            "text/plain": [
              "['threeve',\n",
              " 1,\n",
              " 2,\n",
              " 3,\n",
              " 4,\n",
              " 5,\n",
              " 6,\n",
              " 7,\n",
              " 8,\n",
              " 9,\n",
              " 11,\n",
              " 12,\n",
              " 13,\n",
              " 14,\n",
              " 15,\n",
              " 16,\n",
              " 17,\n",
              " 18,\n",
              " 19,\n",
              " 20,\n",
              " 'threeve',\n",
              " 1,\n",
              " 2,\n",
              " 3,\n",
              " 4,\n",
              " 5,\n",
              " 6,\n",
              " 7,\n",
              " 8,\n",
              " 9,\n",
              " 11,\n",
              " 12,\n",
              " 13,\n",
              " 14,\n",
              " 15,\n",
              " 16,\n",
              " 17,\n",
              " 18,\n",
              " 19,\n",
              " 20,\n",
              " 'threeve',\n",
              " 1,\n",
              " 2,\n",
              " 3,\n",
              " 4,\n",
              " 5,\n",
              " 6,\n",
              " 7,\n",
              " 8,\n",
              " 9,\n",
              " 11,\n",
              " 12,\n",
              " 13,\n",
              " 14,\n",
              " 15,\n",
              " 16,\n",
              " 17,\n",
              " 18,\n",
              " 19,\n",
              " 20]"
            ]
          },
          "metadata": {},
          "execution_count": 5
        }
      ]
    }
  ]
}